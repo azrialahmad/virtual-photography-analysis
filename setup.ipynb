{
 "cells": [
  {
   "cell_type": "code",
   "execution_count": 1,
   "id": "a151d7ef",
   "metadata": {},
   "outputs": [],
   "source": [
    "import sqlite3\n",
    "import pandas as pd"
   ]
  },
  {
   "cell_type": "code",
   "execution_count": 2,
   "id": "4e595da8",
   "metadata": {},
   "outputs": [],
   "source": [
    "conn = sqlite3.connect('virtual_photos.db')\n",
    "cursor = conn.cursor()"
   ]
  },
  {
   "cell_type": "code",
   "execution_count": 3,
   "id": "e8387e34",
   "metadata": {},
   "outputs": [
    {
     "name": "stdout",
     "output_type": "stream",
     "text": [
      "Table created successfully.\n"
     ]
    }
   ],
   "source": [
    "create_table_sql = \"\"\"\n",
    "CREATE TABLE IF NOT EXISTS photos (\n",
    "    photo_id INTEGER PRIMARY KEY,\n",
    "    source_url TEXT,\n",
    "    game_name TEXT,\n",
    "    subject_type TEXT,\n",
    "    composition_style TEXT,\n",
    "    dominant_color TEXT,\n",
    "    community_score INTEGER\n",
    ");\n",
    "\"\"\"\n",
    "cursor.execute(create_table_sql)\n",
    "print(\"Table created successfully.\")"
   ]
  },
  {
   "cell_type": "code",
   "execution_count": 4,
   "id": "7dd91402",
   "metadata": {},
   "outputs": [
    {
     "name": "stdout",
     "output_type": "stream",
     "text": [
      "100 rows inserted into the database.\n"
     ]
    }
   ],
   "source": [
    "# Load the CSV into a pandas DataFrame\n",
    "df = pd.read_csv('photos.csv')\n",
    "\n",
    "# Insert DataFrame data into the SQL table\n",
    "df.to_sql('photos', conn, if_exists='replace', index=False)\n",
    "\n",
    "# Verify by counting the rows\n",
    "cursor.execute(\"SELECT COUNT(*) FROM photos\")\n",
    "print(f\"{cursor.fetchone()[0]} rows inserted into the database.\")\n",
    "\n",
    "# Close the connection\n",
    "conn.close()"
   ]
  }
 ],
 "metadata": {
  "kernelspec": {
   "display_name": "Python 3",
   "language": "python",
   "name": "python3"
  },
  "language_info": {
   "codemirror_mode": {
    "name": "ipython",
    "version": 3
   },
   "file_extension": ".py",
   "mimetype": "text/x-python",
   "name": "python",
   "nbconvert_exporter": "python",
   "pygments_lexer": "ipython3",
   "version": "3.10.11"
  }
 },
 "nbformat": 4,
 "nbformat_minor": 5
}
